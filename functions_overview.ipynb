{
 "cells": [
  {
   "cell_type": "markdown",
   "metadata": {},
   "source": [
    "# Encapsulating Code with Functions\n",
    "Just as we've learned that Python does a lot of work \"under the hood\"--translating its \"syntactic sugar\" into many lines of Python, interpreting that code into the C language, then compiling it into machine language, and so on--we too can wrap our code into simple functions, thereby making those lines easier to understand, debug, and reuse.  The basic unit of encapsulation in programming is called a **function**, and they can mostly be thought of as a pipeline:\n",
    "\n",
    "**Input(s) -> [Some Code] -> Output(s)**\n",
    "\n",
    "In Python, a function is any object that is **callable** (i.e. can use the parentheses after the name).  When **calling** functions, Python's syntax is like so:\n",
    "\n",
    "```python\n",
    "output = some_code(input1, input2)\n",
    "```\n",
    "\n",
    "Creating a function is done using the same code block style we've seen in for-loops and if-loops:\n",
    "\n",
    "```python\n",
    "def some_code(input1, input2):\n",
    "    return output\n",
    "```\n",
    "\n",
    "Functions can take as many inputs as you want them to have.  They can even have **optional** inputs, which have **default** values.  In Python, all optional inputs must appear at the end of the list of functions, like so:\n",
    "\n",
    "```python\n",
    "def some_code(input1, input2, input3=42, input4=\"hello):\n",
    "    return output\n",
    "```\n",
    "\n",
    "Functions are essential to programming because they **simplify** them!  Good functions are simple to reason about, help provide an **abstraction** of that code's purpose, and help **teach** about the nature of the tasks that code is carrying out, and are **testable** (i.e.  they can be checked to see if they are working properly).\n",
    "\n",
    "Let's build some and get a feel for them!"
   ]
  },
  {
   "cell_type": "markdown",
   "metadata": {},
   "source": [
    "**Exercises**: Build functions that carry out that requested task, then use them on the given data."
   ]
  },
  {
   "cell_type": "markdown",
   "metadata": {},
   "source": [
    "**Example**: Write a function that returns the sum of two numbers.  Use it to add x and y below:"
   ]
  },
  {
   "cell_type": "markdown",
   "metadata": {},
   "source": [
    "Function:"
   ]
  },
  {
   "cell_type": "code",
   "execution_count": 2,
   "metadata": {},
   "outputs": [],
   "source": [
    "def add(a, b):\n",
    "    return a + b"
   ]
  },
  {
   "cell_type": "markdown",
   "metadata": {},
   "source": [
    "Data:"
   ]
  },
  {
   "cell_type": "code",
   "execution_count": 3,
   "metadata": {},
   "outputs": [],
   "source": [
    "x = 3\n",
    "y = 5"
   ]
  },
  {
   "cell_type": "markdown",
   "metadata": {},
   "source": [
    "Calling function on data:"
   ]
  },
  {
   "cell_type": "code",
   "execution_count": 4,
   "metadata": {},
   "outputs": [
    {
     "data": {
      "text/plain": [
       "8"
      ]
     },
     "execution_count": 4,
     "metadata": {},
     "output_type": "execute_result"
    }
   ],
   "source": [
    "add(x, y)"
   ]
  },
  {
   "cell_type": "code",
   "execution_count": 7,
   "metadata": {},
   "outputs": [
    {
     "data": {
      "text/plain": [
       "[]"
      ]
     },
     "execution_count": 7,
     "metadata": {},
     "output_type": "execute_result"
    }
   ],
   "source": [
    "a, b, *c = (1, 2)\n",
    "c"
   ]
  },
  {
   "cell_type": "markdown",
   "metadata": {},
   "source": [
    "**Exercise 1:** Write a function that returns the absolute (positive) difference between two numbers."
   ]
  },
  {
   "cell_type": "markdown",
   "metadata": {},
   "source": [
    "Function:"
   ]
  },
  {
   "cell_type": "code",
   "execution_count": 47,
   "metadata": {},
   "outputs": [],
   "source": [
    "def abs_difference(x, y):\n",
    "    ...\n"
   ]
  },
  {
   "cell_type": "markdown",
   "metadata": {},
   "source": [
    "Data: "
   ]
  },
  {
   "cell_type": "code",
   "execution_count": 49,
   "metadata": {},
   "outputs": [],
   "source": [
    "a = 25\n",
    "b = 65"
   ]
  },
  {
   "cell_type": "code",
   "execution_count": null,
   "metadata": {},
   "outputs": [],
   "source": []
  },
  {
   "cell_type": "markdown",
   "metadata": {},
   "source": [
    "**Exercise 2:** Write a function that returns the square root of the sum of squares of two numbers"
   ]
  },
  {
   "cell_type": "markdown",
   "metadata": {},
   "source": [
    "Function:"
   ]
  },
  {
   "cell_type": "code",
   "execution_count": null,
   "metadata": {},
   "outputs": [],
   "source": []
  },
  {
   "cell_type": "markdown",
   "metadata": {},
   "source": [
    "Data:"
   ]
  },
  {
   "cell_type": "code",
   "execution_count": null,
   "metadata": {},
   "outputs": [],
   "source": [
    "x = 5\n",
    "y = 4"
   ]
  },
  {
   "cell_type": "code",
   "execution_count": null,
   "metadata": {},
   "outputs": [],
   "source": []
  },
  {
   "cell_type": "markdown",
   "metadata": {},
   "source": [
    "**Exercise 3:** Write a function that returns \"Positive\" if their difference is positive, and \"Negative\" if their difference is negative"
   ]
  },
  {
   "cell_type": "markdown",
   "metadata": {},
   "source": [
    "Function:"
   ]
  },
  {
   "cell_type": "code",
   "execution_count": null,
   "metadata": {},
   "outputs": [],
   "source": []
  },
  {
   "cell_type": "markdown",
   "metadata": {},
   "source": [
    "Data:"
   ]
  },
  {
   "cell_type": "code",
   "execution_count": 50,
   "metadata": {},
   "outputs": [],
   "source": [
    "x = 10\n",
    "y = 5"
   ]
  },
  {
   "cell_type": "code",
   "execution_count": null,
   "metadata": {},
   "outputs": [],
   "source": []
  },
  {
   "cell_type": "markdown",
   "metadata": {},
   "source": [
    "**Exercise 4:** Write a function that returns **both** the sum of the first two inputs and the difference between the second and third input: "
   ]
  },
  {
   "cell_type": "markdown",
   "metadata": {},
   "source": [
    "Function:"
   ]
  },
  {
   "cell_type": "code",
   "execution_count": null,
   "metadata": {},
   "outputs": [],
   "source": []
  },
  {
   "cell_type": "markdown",
   "metadata": {},
   "source": [
    "Data:"
   ]
  },
  {
   "cell_type": "code",
   "execution_count": 52,
   "metadata": {},
   "outputs": [],
   "source": [
    "a = 10\n",
    "b = 15\n",
    "c = 20"
   ]
  },
  {
   "cell_type": "code",
   "execution_count": null,
   "metadata": {},
   "outputs": [],
   "source": []
  },
  {
   "cell_type": "markdown",
   "metadata": {},
   "source": [
    "**Exercise 5**: Write a function that adds two numbers together if the inputs are both numbers, and concatenates the inputs if they are both strings."
   ]
  },
  {
   "cell_type": "markdown",
   "metadata": {},
   "source": [
    "Function:"
   ]
  },
  {
   "cell_type": "code",
   "execution_count": null,
   "metadata": {},
   "outputs": [],
   "source": []
  },
  {
   "cell_type": "markdown",
   "metadata": {},
   "source": [
    "Data:"
   ]
  },
  {
   "cell_type": "code",
   "execution_count": 51,
   "metadata": {},
   "outputs": [],
   "source": [
    "x = \"Hello\"\n",
    "y = \"World\""
   ]
  },
  {
   "cell_type": "code",
   "execution_count": null,
   "metadata": {},
   "outputs": [],
   "source": []
  },
  {
   "cell_type": "markdown",
   "metadata": {},
   "source": [
    "## Using Functions to Wrap Code\n",
    "\n",
    "In general, we want to make code as abstract as possible, but at the same time we should be specific about what we are trying to accomplish.  These two goals--abstraction and specificity--are often at odds with each other.  Encapsulation solves this problem by allowing us to put specific code inside function definitions, and abstract code in the code that calls it.\n",
    "\n",
    "Usually, the process of producing this code format follows three steps:\n",
    "  1. Write code that works.  (Focus on the specifics)\n",
    "  2. Wrap it in a function.  (Encapsulate it)\n",
    "  3. Call the function in your script (Abstract it)\n",
    " \n",
    " \n",
    "For example:\n",
    "```python\n",
    "data = [2, 6, 3, 7, 8, 9, 1]\n",
    "squares = []\n",
    "for el in data:\n",
    "    square = el ** 2\n",
    "    squares.append(square)\n",
    "sum_of_squares\n",
    "```\n",
    "\n",
    "will become:\n",
    "\n",
    "```python\n",
    "def sum_of_squares(data):\n",
    "    squares = []\n",
    "    for el in data:\n",
    "        square = el ** 2\n",
    "        squares.append(square)\n",
    "    return sum(squares)\n",
    "\n",
    "\n",
    "data = [2, 6, 3, 7, 8, 9, 1]\n",
    "sum_of_squares(data)\n",
    "```\n",
    "\n",
    "Let's practice doing this with various types of loops:"
   ]
  },
  {
   "cell_type": "markdown",
   "metadata": {},
   "source": [
    "**Exercises** Take the following working Python code and rewrite it so that it uses functions:"
   ]
  },
  {
   "cell_type": "markdown",
   "metadata": {},
   "source": [
    "**Exercise 1**: The code below squares all of the numbers and removes all of the strings from the list.  Make it into a function, **square_numbers**:"
   ]
  },
  {
   "cell_type": "code",
   "execution_count": 71,
   "metadata": {},
   "outputs": [
    {
     "data": {
      "text/plain": [
       "[25, 2916, 9, 36]"
      ]
     },
     "execution_count": 71,
     "metadata": {},
     "output_type": "execute_result"
    }
   ],
   "source": [
    "data = [5, \"missing\", 54, \"bad\", 3, 6]\n",
    "good_data = []\n",
    "good_data_squared = []\n",
    "idx = 0\n",
    "while idx < len(data):\n",
    "    el = data[idx]\n",
    "    if isinstance(el, int):\n",
    "        good_data_squared.append(el ** 2)\n",
    "    idx += 1\n",
    "good_data_squared"
   ]
  },
  {
   "cell_type": "markdown",
   "metadata": {},
   "source": [
    "Put the modified code below:"
   ]
  },
  {
   "cell_type": "code",
   "execution_count": null,
   "metadata": {},
   "outputs": [],
   "source": []
  },
  {
   "cell_type": "markdown",
   "metadata": {},
   "source": [
    "**Exercise 2**: The code below calculates the **standard deviation** of the data.  Put it in a function called **standard_deviation** and use the function on the data:"
   ]
  },
  {
   "cell_type": "code",
   "execution_count": 62,
   "metadata": {},
   "outputs": [
    {
     "data": {
      "text/plain": [
       "2.7726341266023544"
      ]
     },
     "execution_count": 62,
     "metadata": {},
     "output_type": "execute_result"
    }
   ],
   "source": [
    "import math\n",
    "\n",
    "data = [2, 6, 8, 2, 5, 8, 9, 2]\n",
    "\n",
    "mean = 0\n",
    "std = 0\n",
    "for el in data:\n",
    "    mean += el / len(data)\n",
    "dev_squareds = []\n",
    "for el in data:\n",
    "    dev = (el - mean) ** 2\n",
    "    dev_squareds.append(dev)\n",
    "sum_dev_squareds = sum(dev_squareds)\n",
    "standard_dev = sum_dev_squareds / len(data) * 1.\n",
    "standard_dev = math.sqrt(standard_dev)\n",
    "standard_dev"
   ]
  },
  {
   "cell_type": "markdown",
   "metadata": {},
   "source": [
    "Put the modified code below:"
   ]
  },
  {
   "cell_type": "code",
   "execution_count": null,
   "metadata": {},
   "outputs": [],
   "source": []
  },
  {
   "cell_type": "markdown",
   "metadata": {},
   "source": [
    "**Exercise 3:** The code below generates a **bootstrap** sample of the data, getting a random selection of the data **boot_n** times and calculating the mean of that sample, so that many estimates of the mean can be made from a single dataset.  Put it in a function called **bootstrap_means**."
   ]
  },
  {
   "cell_type": "code",
   "execution_count": 68,
   "metadata": {},
   "outputs": [
    {
     "data": {
      "text/plain": [
       "[5.909090909090909,\n",
       " 5.636363636363637,\n",
       " 4.090909090909091,\n",
       " 5.7272727272727275,\n",
       " 3.909090909090909]"
      ]
     },
     "execution_count": 68,
     "metadata": {},
     "output_type": "execute_result"
    }
   ],
   "source": [
    "import random\n",
    "\n",
    "data = [2, 6, 8, 2, 5, 8, 9, 2, 6, 2, 10]\n",
    "n_boot = 5\n",
    "means = []\n",
    "for rep in range(n_boot):\n",
    "    sample = random.choices(data, k=len(data))\n",
    "    mean = sum(sample) / len(sample)\n",
    "    rep = rep * 2\n",
    "    means.append(mean)\n",
    "means\n"
   ]
  },
  {
   "cell_type": "markdown",
   "metadata": {},
   "source": [
    "Put the modified code below:"
   ]
  },
  {
   "cell_type": "code",
   "execution_count": null,
   "metadata": {},
   "outputs": [],
   "source": []
  },
  {
   "cell_type": "markdown",
   "metadata": {},
   "source": [
    "**Exercise 4**: The code below generates a labeled figure showing the difference in mean survival rate between two datasets, the *experimental* treatment and the *control* treatment.  Put it in a function called **plot_treatment_effects**"
   ]
  },
  {
   "cell_type": "code",
   "execution_count": 81,
   "metadata": {},
   "outputs": [
    {
     "data": {
      "image/png": "[encoded data removed]",
      "text/plain": [
       "<Figure size 1080x288 with 3 Axes>"
      ]
     },
     "metadata": {
      "needs_background": "light"
     },
     "output_type": "display_data"
    }
   ],
   "source": [
    "import statistics\n",
    "import matplotlib.pyplot as plt\n",
    "\n",
    "treatment = [7, 8, 6, 5, 8, 4, 3, 5, 8, 7, 5, 6, 9, 4, 8]\n",
    "control = [5, 7, 3, 6, 5, 7, 3, 5, 2, 5, 7, 4, 6, 5, 3, 4, 2]\n",
    "fig, (ax1, ax2, ax3) = plt.subplots(ncols=3, figsize=(15, 4))\n",
    "ax1.hist(treatment, bins=5);\n",
    "ax1.set(title='Treatment Measuremnts', xlabel='Jump Height', ylabel='Frequency')\n",
    "ax2.hist(control, bins=5)\n",
    "ax2.set_title('Control Measurements')\n",
    "ax2.set_xlabel('Jump Height')\n",
    "ax2.set_ylabel('Frequency')\n",
    "treatment2 = [el ** 2 for el in treatment]\n",
    "control2 = [el ** 2 for el in treatment]\n",
    "mean_treatment = sum(treatment) / len(treatment)\n",
    "mean_control = sum(control) / len(control)\n",
    "x = [\"Treatment\", \"Control\"]\n",
    "heights = [mean_treatment, mean_control]\n",
    "ax3.bar(x, heights)\n",
    "ax3.set(title=\"Mean Jump Height of Experimental Groups\", xlabel=\"Group\", ylabel=\"Jump Height\")\n",
    "fig;\n"
   ]
  },
  {
   "cell_type": "markdown",
   "metadata": {},
   "source": [
    "Put the modified code below:"
   ]
  },
  {
   "cell_type": "code",
   "execution_count": null,
   "metadata": {},
   "outputs": [],
   "source": []
  },
  {
   "cell_type": "markdown",
   "metadata": {},
   "source": [
    "## Refactoring Code: Improving it without breaking it\n",
    "\n",
    "By modularizing code, we give ourselves the ability to modify small parts of the code without having to worry about the rest of it--so long as the inputs and outputs don't change, anything that happens in the middle doesn't matter to the code that calls the function!\n",
    "\n",
    "The exercises above all contain things that can be improved, whether that is to make them simpler, more readable, or more reliable, any improvements are helpful.  Let's work through them again and make the following improvements:\n",
    "\n",
    "  1. **Remove Orphan Code**: Often, code that isn't actually used by the function is left sitting there, lost and forgotten.  Deleting those lines will make it easier to see how everything works and improve readability.\n",
    "  2. **Change variable names to something clearer**: variables like x and y are not helpful.  Make them something that represents that result of the line!\n",
    "  3. **Reduce the number of steps**: If there are several lines doing something you think is simple, either compress them to a single line or make a new function that represents that action.  If you know that the function you want already exists in another package, then import that package and use it!\n",
    "  4. **Convert While loops to For loops**: If you see iteration happening, use a for-loop!  If it's a single action, why not make it a comprehension?\n",
    "  \n",
    "**Exercises** Refactor the functions created in the previous section.  Make sure to re-run the code with each change you make to verify that it still works!"
   ]
  }
 ],
 "metadata": {
  "kernelspec": {
   "display_name": "Python 3",
   "language": "python",
   "name": "python3"
  },
  "language_info": {
   "codemirror_mode": {
    "name": "ipython",
    "version": 3
   },
   "file_extension": ".py",
   "mimetype": "text/x-python",
   "name": "python",
   "nbconvert_exporter": "python",
   "pygments_lexer": "ipython3",
   "version": "3.7.9"
  }
 },
 "nbformat": 4,
 "nbformat_minor": 4
}
